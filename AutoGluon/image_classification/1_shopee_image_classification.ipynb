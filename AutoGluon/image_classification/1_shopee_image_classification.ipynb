{
 "cells": [
  {
   "cell_type": "code",
   "execution_count": null,
   "id": "eeca8248-96e5-48ce-88bb-00a613a4fece",
   "metadata": {},
   "outputs": [],
   "source": [
    "import warnings\n",
    "warnings.filterwarnings('ignore')\n",
    "import pandas as pd\n",
    "from function import *\n",
    "from autogluon.multimodal.utils.misc import shopee_dataset\n",
    "download_dir = './shopee'\n",
    "train_data_path, test_data_path = shopee_dataset(download_dir)\n",
    "print(train_data_path)"
   ]
  },
  {
   "cell_type": "markdown",
   "id": "8b3a9fdf-104d-4803-88e9-8ca62ee0ccfb",
   "metadata": {},
   "source": [
    "## Use AutoMM to Fit Models\n",
    "\n",
    "Now, we fit a classifier using AutoMM as follows:"
   ]
  },
  {
   "cell_type": "code",
   "execution_count": null,
   "id": "aafed19e-1c2b-44af-b819-aa14c181b5bc",
   "metadata": {},
   "outputs": [],
   "source": [
    "from autogluon.multimodal import MultiModalPredictor\n",
    "model_path = generate_path('./AutogluonModels/', 'Shopee')\n",
    "predictor = MultiModalPredictor(label=\"label\", path=model_path, presets='medium_quality')\n",
    "predictor.fit(\n",
    "    train_data=train_data_path,\n",
    ")"
   ]
  },
  {
   "cell_type": "code",
   "execution_count": null,
   "id": "76452b01-2d96-4078-b93a-d7cb9e02de8d",
   "metadata": {},
   "outputs": [],
   "source": [
    "scores = predictor.evaluate(test_data_path, metrics=[\"accuracy\"])\n",
    "print('Top-1 test acc: %.3f' % scores[\"accuracy\"])"
   ]
  },
  {
   "cell_type": "code",
   "execution_count": null,
   "id": "944944f1-4a0b-4102-bd46-f18b8808730b",
   "metadata": {},
   "outputs": [],
   "source": [
    "model_path = generate_path('./AutogluonModels/', 'Shopee_mobileViT')\n",
    "predictor = MultiModalPredictor(label='label', path = model_path)\n",
    "predictor.fit(train_data=train_data_path,\n",
    "              hyperparameters={'model.timm_image.checkpoint_name': 'mobilevitv2_150_in22ft1k'})"
   ]
  },
  {
   "cell_type": "code",
   "execution_count": null,
   "id": "e644c393-5fd0-492a-9d61-b44b4d4247b7",
   "metadata": {},
   "outputs": [],
   "source": [
    "scores = predictor.evaluate(test_data_path, metrics=[\"accuracy\"])\n",
    "print('Top-1 test acc: %.3f' % scores[\"accuracy\"])"
   ]
  },
  {
   "cell_type": "code",
   "execution_count": null,
   "id": "e390fc06-546e-4694-9af4-dd882599ec73",
   "metadata": {},
   "outputs": [],
   "source": []
  }
 ],
 "metadata": {
  "kernelspec": {
   "display_name": "cv",
   "language": "python",
   "name": "cv"
  },
  "language_info": {
   "codemirror_mode": {
    "name": "ipython",
    "version": 3
   },
   "file_extension": ".py",
   "mimetype": "text/x-python",
   "name": "python",
   "nbconvert_exporter": "python",
   "pygments_lexer": "ipython3",
   "version": "3.10.0"
  }
 },
 "nbformat": 4,
 "nbformat_minor": 5
}
