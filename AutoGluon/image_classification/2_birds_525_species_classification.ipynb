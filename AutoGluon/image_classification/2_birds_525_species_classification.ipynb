{
 "cells": [
  {
   "cell_type": "code",
   "execution_count": null,
   "id": "a3075857-c19e-4876-9446-75ad9e3202bd",
   "metadata": {},
   "outputs": [],
   "source": [
    "import pandas as pd \n",
    "from function import *\n",
    "import glob\n",
    "path = download_dataset('birds')[0]\n",
    "df = pd.read_csv(path)\n",
    "train_data_path = df[df['data set'] == 'train'].reset_index(drop=True)\n",
    "val_data_path = df[df['data set'] == 'valid'].reset_index(drop=True)\n",
    "\n",
    "test_path = path.replace('birds.csv', 'test')\n",
    "test_data_path = glob.glob(f\"{test_path}/*.jpg\")\n",
    "test_data_path = pd.DataFrame(test_data_path, columns=[\"filepaths\"])"
   ]
  },
  {
   "cell_type": "code",
   "execution_count": null,
   "id": "692d583b-f8ad-4e3a-872d-a87aa9ba7e73",
   "metadata": {},
   "outputs": [],
   "source": [
    "# Divide dataset for comfortable classes\n",
    "from sklearn.model_selection import train_test_split\n",
    "train_data_path, _ = train_test_split(\n",
    "    train_data_path, \n",
    "    test_size=0.9, \n",
    "    stratify=train_data_path['class id'],\n",
    "    random_state=42\n",
    ")"
   ]
  },
  {
   "cell_type": "code",
   "execution_count": null,
   "id": "4ece2e24-2bba-4ebd-888a-3ae8af797e46",
   "metadata": {},
   "outputs": [],
   "source": [
    "from autogluon.multimodal.utils.misc import path_expander\n",
    "\n",
    "PATH_COL = 'filepaths'\n",
    "base_path = path.replace('birds.csv', '')\n",
    "train_data_path[PATH_COL] = train_data_path[PATH_COL].apply(lambda ele: path_expander(ele, base_folder='./birds_525_species/'))\n",
    "val_data_path[PATH_COL] = val_data_path[PATH_COL].apply(lambda ele: path_expander(ele, base_folder='./birds_525_species/'))\n",
    "test_data_path[PATH_COL] = test_data_path[PATH_COL].apply(lambda ele: path_expander(ele, base_folder='./birds_525_species/'))\n",
    "print(val_data_path.head())"
   ]
  },
  {
   "cell_type": "code",
   "execution_count": null,
   "id": "326bce0e-55b7-473e-b3f6-f773b9ddfc7c",
   "metadata": {},
   "outputs": [],
   "source": [
    "from autogluon.multimodal import MultiModalPredictor\n",
    "model_path = generate_path('./AutogluonModels/', 'Birds')\n",
    "predictor = MultiModalPredictor(label='class id', problem_type='multiclass', path = model_path, presets='medium_quality')\n",
    "predictor.fit(train_data=train_data_path,\n",
    "              tuning_data=val_data_path,\n",
    "              hyperparameters={\"env.batch_size\": 128},\n",
    "             )"
   ]
  },
  {
   "cell_type": "code",
   "execution_count": null,
   "id": "c8eb1395-33e7-44c9-989a-78c2ce471efd",
   "metadata": {},
   "outputs": [],
   "source": [
    "scores = predictor.evaluate(val_data_path, metrics=[\"accuracy\"])\n",
    "print('Top-1 test acc: %.3f' % scores[\"accuracy\"])"
   ]
  },
  {
   "cell_type": "code",
   "execution_count": null,
   "id": "c2e465f1-6937-4358-9e38-c868b8aebb70",
   "metadata": {},
   "outputs": [],
   "source": []
  }
 ],
 "metadata": {
  "kernelspec": {
   "display_name": "cv",
   "language": "python",
   "name": "cv"
  },
  "language_info": {
   "codemirror_mode": {
    "name": "ipython",
    "version": 3
   },
   "file_extension": ".py",
   "mimetype": "text/x-python",
   "name": "python",
   "nbconvert_exporter": "python",
   "pygments_lexer": "ipython3",
   "version": "3.10.0"
  }
 },
 "nbformat": 4,
 "nbformat_minor": 5
}
