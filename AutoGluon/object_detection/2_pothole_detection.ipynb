{
 "cells": [
  {
   "cell_type": "code",
   "execution_count": null,
   "id": "19e51da9-d841-40d9-bbc5-ceb28a6bf3ef",
   "metadata": {},
   "outputs": [],
   "source": [
    "import os\n",
    "from autogluon.multimodal import MultiModalPredictor\n",
    "from autogluon.core.utils.loaders import load_zip"
   ]
  },
  {
   "cell_type": "code",
   "execution_count": null,
   "id": "f082e586-1889-4eb0-b3aa-47cc348f969d",
   "metadata": {},
   "outputs": [],
   "source": [
    "zip_file = \"https://automl-mm-bench.s3.amazonaws.com/object_detection/dataset/pothole.zip\"\n",
    "download_dir = \"./pothole\"\n",
    "\n",
    "load_zip.unzip(zip_file, unzip_dir=download_dir)\n",
    "data_dir = os.path.join(download_dir, \"pothole\")\n",
    "train_path = os.path.join(data_dir, \"Annotations\", \"usersplit_train_cocoformat.json\")\n",
    "val_path = os.path.join(data_dir, \"Annotations\", \"usersplit_val_cocoformat.json\")\n",
    "test_path = os.path.join(data_dir, \"Annotations\", \"usersplit_test_cocoformat.json\")"
   ]
  },
  {
   "cell_type": "code",
   "execution_count": null,
   "id": "7cff94bd-6766-47f0-9a0e-a66c31db4926",
   "metadata": {},
   "outputs": [],
   "source": [
    "checkpoint_name = \"yolox_s\"\n",
    "num_gpus = 1  # only use one GPU"
   ]
  },
  {
   "cell_type": "code",
   "execution_count": null,
   "id": "ca0b72b6-a31f-4cf7-a38c-1f92b39d34fb",
   "metadata": {},
   "outputs": [],
   "source": [
    "predictor = MultiModalPredictor(\n",
    "    hyperparameters={\n",
    "        \"model.mmdet_image.checkpoint_name\": checkpoint_name,\n",
    "        \"env.num_gpus\": num_gpus,\n",
    "    },\n",
    "    problem_type=\"object_detection\",\n",
    "    sample_data_path=train_path,\n",
    ")"
   ]
  },
  {
   "cell_type": "code",
   "execution_count": null,
   "id": "16fd100e-ec2f-4b4b-8026-01a976132bdc",
   "metadata": {
    "scrolled": true
   },
   "outputs": [],
   "source": [
    "predictor.fit(\n",
    "    train_path,\n",
    "    tuning_data=val_path,\n",
    "    hyperparameters={\n",
    "        \"optimization.learning_rate\": 1e-4,  # we use two stage and detection head has 100x lr\n",
    "        \"env.per_gpu_batch_size\": 32,  # decrease it when model is large or GPU memory is small\n",
    "        \"optimization.max_epochs\": 10,  # max number of training epochs, note that we may early stop before this based on validation setting\n",
    "        \"optimization.val_check_interval\": 1.0,  # Do 1 validation each epoch\n",
    "        \"optimization.check_val_every_n_epoch\": 3,  # Do 1 validation each 3 epochs\n",
    "        \"optimization.patience\": 3,  # Early stop after 3 consective validations are not the best\n",
    "    },\n",
    "    time_limit=180,\n",
    ")"
   ]
  },
  {
   "cell_type": "code",
   "execution_count": null,
   "id": "a00198d7-0e15-4ec8-a957-86686dea9d81",
   "metadata": {},
   "outputs": [],
   "source": [
    "predictor.evaluate(test_path, eval_tool='torchmetrics')"
   ]
  },
  {
   "cell_type": "code",
   "execution_count": null,
   "id": "ae39a6f6-9711-4424-8bd1-a6439dc93386",
   "metadata": {},
   "outputs": [],
   "source": []
  }
 ],
 "metadata": {
  "kernelspec": {
   "display_name": "cv",
   "language": "python",
   "name": "cv"
  },
  "language_info": {
   "codemirror_mode": {
    "name": "ipython",
    "version": 3
   },
   "file_extension": ".py",
   "mimetype": "text/x-python",
   "name": "python",
   "nbconvert_exporter": "python",
   "pygments_lexer": "ipython3",
   "version": "3.10.0"
  }
 },
 "nbformat": 4,
 "nbformat_minor": 5
}
