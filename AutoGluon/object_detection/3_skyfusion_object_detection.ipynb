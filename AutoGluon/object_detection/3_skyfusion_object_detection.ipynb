{
 "cells": [
  {
   "cell_type": "code",
   "execution_count": null,
   "id": "6407b22a-ef7d-4d87-95f3-fd3b49cd830f",
   "metadata": {},
   "outputs": [],
   "source": [
    "from autogluon.multimodal import MultiModalPredictor\n",
    "import os\n",
    "from function import *"
   ]
  },
  {
   "cell_type": "code",
   "execution_count": null,
   "id": "5b426a7a-df92-4a13-8a65-080132ac21c5",
   "metadata": {},
   "outputs": [],
   "source": [
    "path = download_dataset('SkyFusion')"
   ]
  },
  {
   "cell_type": "code",
   "execution_count": null,
   "id": "9a30761a-2fe9-4ab6-9d84-fc7b5426a8ec",
   "metadata": {},
   "outputs": [],
   "source": [
    "train_path = os.path.join(path[0], '_annotations.coco.json')\n",
    "valid_path = os.path.join(path[1], '_annotations.coco.json')\n",
    "test_path = os.path.join(path[2], '_annotations.coco.json')"
   ]
  },
  {
   "cell_type": "code",
   "execution_count": null,
   "id": "07ba75a2-ef1a-473c-a2e9-de8f539ef423",
   "metadata": {},
   "outputs": [],
   "source": [
    "def update_image_paths_in_json(json_path, root_dir):\n",
    "    with open(json_path, 'r') as f:\n",
    "        data = json.load(f)\n",
    "    if 'images' in data:\n",
    "        for image in data['images']:\n",
    "            image['file_name'] = os.path.join(root_dir, image['file_name'])            \n",
    "    with open(json_path, 'w') as f:\n",
    "        json.dump(data, f, indent=4)    \n",
    "    print(f\"수정된 JSON 파일이 저장되었습니다: {json_path}\")\n",
    "\n",
    "update_image_paths_in_json(train_path, path[0])\n",
    "update_image_paths_in_json(valid_path, path[1])\n",
    "update_image_paths_in_json(test_path, path[2])"
   ]
  },
  {
   "cell_type": "code",
   "execution_count": null,
   "id": "ec8c0f77-43ad-440e-90ab-bbc400b7dfb0",
   "metadata": {},
   "outputs": [],
   "source": [
    "train_df = coco_to_dataframe(train_path)\n",
    "test_df = coco_to_dataframe(test_path)\n",
    "\n",
    "# train_df = train_df[:1000]"
   ]
  },
  {
   "cell_type": "code",
   "execution_count": null,
   "id": "4d44bed0-d557-45ee-9e92-f4760a36224a",
   "metadata": {},
   "outputs": [],
   "source": [
    "checkpoint_name = \"yolox_s\"\n",
    "checkpoint_name = \"yolov3_mobilenetv2_8xb24-320-300e_coco\"\n",
    "num_gpus = 1  # only use one GPU"
   ]
  },
  {
   "cell_type": "code",
   "execution_count": null,
   "id": "ed281547-6fbe-4720-b6bd-9ebadb60f402",
   "metadata": {},
   "outputs": [],
   "source": [
    "predictor = MultiModalPredictor(\n",
    "    hyperparameters={\n",
    "        \"model.mmdet_image.checkpoint_name\": checkpoint_name,\n",
    "        \"env.num_gpus\": num_gpus,\n",
    "    },\n",
    "    problem_type=\"object_detection\",\n",
    ")"
   ]
  },
  {
   "cell_type": "code",
   "execution_count": null,
   "id": "38406b9f-62c9-45f7-b8c8-7056b4d2264e",
   "metadata": {},
   "outputs": [],
   "source": [
    "predictor.fit(\n",
    "    train_data=train_path,\n",
    "    tuning_data=valid_path,\n",
    "    hyperparameters={\n",
    "    \"optimization.max_epochs\": 10,  # max number of training epochs, note that we may early stop before this based on validation setting\n",
    "    \"optimization.check_val_every_n_epoch\": 3,  # Do 1 validation each 3 epochs\n",
    "    },\n",
    "    time_limit=180,\n",
    ")"
   ]
  },
  {
   "cell_type": "code",
   "execution_count": null,
   "id": "33a0c0b9-9b17-4608-97b5-9e77d8b3dc38",
   "metadata": {},
   "outputs": [],
   "source": [
    "predictor.evaluate(test_path, eval_tool='torchmetrics')"
   ]
  },
  {
   "cell_type": "code",
   "execution_count": null,
   "id": "2b3c0ee5-6425-4402-b389-230b4a4aab72",
   "metadata": {},
   "outputs": [],
   "source": []
  }
 ],
 "metadata": {
  "kernelspec": {
   "display_name": "cv",
   "language": "python",
   "name": "cv"
  },
  "language_info": {
   "codemirror_mode": {
    "name": "ipython",
    "version": 3
   },
   "file_extension": ".py",
   "mimetype": "text/x-python",
   "name": "python",
   "nbconvert_exporter": "python",
   "pygments_lexer": "ipython3",
   "version": "3.10.0"
  }
 },
 "nbformat": 4,
 "nbformat_minor": 5
}
