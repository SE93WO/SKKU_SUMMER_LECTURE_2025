{
 "cells": [
  {
   "cell_type": "code",
   "execution_count": null,
   "id": "7c8a32a2-8059-46f3-bd78-0de8e5ab0b72",
   "metadata": {},
   "outputs": [],
   "source": [
    "import pandas as pd\n",
    "from function import *\n",
    "path = download_dataset('news_feed')\n",
    "df = pd.read_csv(path[0])"
   ]
  },
  {
   "cell_type": "code",
   "execution_count": null,
   "id": "45e1e1af-fb42-4731-9a85-877496c90c1d",
   "metadata": {},
   "outputs": [],
   "source": [
    "from sklearn.model_selection import train_test_split\n",
    "df_train, df_test = train_test_split(df, test_size=0.3, random_state=2024)"
   ]
  },
  {
   "cell_type": "code",
   "execution_count": null,
   "id": "6f3e7ca1-3144-41a7-9de6-d1db80742fa9",
   "metadata": {},
   "outputs": [],
   "source": [
    "from autogluon.tabular import TabularPredictor\n",
    "model_path = generate_path('./AutogluonModels/', 'Titaninews_feed')\n",
    "predictor = TabularPredictor(label='Popularity', path = model_path).fit(df_train, num_cpus=12, num_gpus=1)\n",
    "predictor.leaderboard(df_test, silent=True)"
   ]
  },
  {
   "cell_type": "code",
   "execution_count": null,
   "id": "c56fcab0-8889-4f50-95fe-0a01756f18c8",
   "metadata": {},
   "outputs": [],
   "source": []
  }
 ],
 "metadata": {
  "kernelspec": {
   "display_name": "tabular",
   "language": "python",
   "name": "tabular"
  },
  "language_info": {
   "codemirror_mode": {
    "name": "ipython",
    "version": 3
   },
   "file_extension": ".py",
   "mimetype": "text/x-python",
   "name": "python",
   "nbconvert_exporter": "python",
   "pygments_lexer": "ipython3",
   "version": "3.10.0"
  }
 },
 "nbformat": 4,
 "nbformat_minor": 5
}
