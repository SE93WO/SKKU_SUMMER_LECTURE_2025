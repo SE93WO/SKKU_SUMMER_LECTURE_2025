{
 "cells": [
  {
   "cell_type": "code",
   "execution_count": null,
   "id": "23ab35bd-8e5a-497d-ac64-02bc810e3c8c",
   "metadata": {
    "editable": true,
    "slideshow": {
     "slide_type": ""
    },
    "tags": []
   },
   "outputs": [],
   "source": [
    "import pandas as pd\n",
    "from function import *\n",
    "path = download_dataset('kepler')\n",
    "df = pd.read_csv(path[0])"
   ]
  },
  {
   "cell_type": "code",
   "execution_count": null,
   "id": "969da01c-24ce-42f0-8fec-2f31471527da",
   "metadata": {},
   "outputs": [],
   "source": [
    "from sklearn.model_selection import train_test_split\n",
    "df_train, df_test = train_test_split(df, test_size=0.3, random_state=2024)"
   ]
  },
  {
   "cell_type": "code",
   "execution_count": null,
   "id": "d5c6d454-f7f2-42bc-83c7-d38f87264086",
   "metadata": {},
   "outputs": [],
   "source": [
    "from autogluon.tabular import TabularPredictor\n",
    "model_path = generate_path('./AutogluonModels/', 'kepler')\n",
    "predictor = TabularPredictor(label='koi_disposition', path = model_path).fit(df_train, num_cpus=12, num_gpus=1)\n",
    "predictor.leaderboard(df_test, silent=True)"
   ]
  }
 ],
 "metadata": {
  "kernelspec": {
   "display_name": "tabular",
   "language": "python",
   "name": "tabular"
  },
  "language_info": {
   "codemirror_mode": {
    "name": "ipython",
    "version": 3
   },
   "file_extension": ".py",
   "mimetype": "text/x-python",
   "name": "python",
   "nbconvert_exporter": "python",
   "pygments_lexer": "ipython3",
   "version": "3.10.0"
  }
 },
 "nbformat": 4,
 "nbformat_minor": 5
}
