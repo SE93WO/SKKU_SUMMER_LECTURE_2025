{
 "cells": [
  {
   "cell_type": "code",
   "execution_count": null,
   "id": "52c08dfe-7f91-4dbc-bbe2-00d3a145063c",
   "metadata": {},
   "outputs": [],
   "source": [
    "import requests\n",
    "from PIL import Image\n",
    "\n",
    "image_url = \"https://llava-vl.github.io/static/images/view.jpg\"\n",
    "image = Image.open(requests.get(image_url, stream=True).raw)\n",
    "image"
   ]
  },
  {
   "cell_type": "code",
   "execution_count": null,
   "id": "79bca0a3-537e-4a70-8e12-2146c14c6857",
   "metadata": {},
   "outputs": [],
   "source": [
    "import torch\n",
    "from transformers import BitsAndBytesConfig\n",
    "\n",
    "quantization_config = BitsAndBytesConfig(\n",
    "    load_in_4bit=True,\n",
    "    bnb_4bit_compute_dtype=torch.float16\n",
    ")"
   ]
  },
  {
   "cell_type": "code",
   "execution_count": null,
   "id": "50e9d4db-aa12-411a-b8ac-8287f22ee411",
   "metadata": {},
   "outputs": [],
   "source": [
    "from transformers import pipeline\n",
    "\n",
    "model_id = \"llava-hf/llava-1.5-7b-hf\"\n",
    "\n",
    "pipe = pipeline(\"image-text-to-text\", model=model_id, device_map=\"cuda\", model_kwargs={\"quantization_config\": quantization_config})"
   ]
  },
  {
   "cell_type": "code",
   "execution_count": null,
   "id": "cfa15cf9-0a6e-433e-8550-e60b9b7b5e86",
   "metadata": {},
   "outputs": [],
   "source": [
    "max_new_tokens = 200\n",
    "prompt = \"USER: <image>\\n What are the things I should be cautious about when I visit this place?\\n ASSISTANT:\"\n",
    "\n",
    "outputs = pipe(image, text=prompt, generate_kwargs={\"max_new_tokens\": 200})"
   ]
  },
  {
   "cell_type": "code",
   "execution_count": null,
   "id": "0d682156-6083-400a-9f16-df1ed78a0066",
   "metadata": {},
   "outputs": [],
   "source": [
    "outputs"
   ]
  }
 ],
 "metadata": {
  "kernelspec": {
   "display_name": "huggingface",
   "language": "python",
   "name": "huggingface"
  },
  "language_info": {
   "codemirror_mode": {
    "name": "ipython",
    "version": 3
   },
   "file_extension": ".py",
   "mimetype": "text/x-python",
   "name": "python",
   "nbconvert_exporter": "python",
   "pygments_lexer": "ipython3",
   "version": "3.10.0"
  }
 },
 "nbformat": 4,
 "nbformat_minor": 5
}
