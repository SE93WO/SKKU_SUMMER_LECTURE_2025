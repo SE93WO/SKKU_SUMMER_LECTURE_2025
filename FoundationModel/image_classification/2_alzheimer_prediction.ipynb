{
 "cells": [
  {
   "cell_type": "code",
   "execution_count": null,
   "id": "70c2f698-2fa5-4f9c-b5ae-d0f9d9717267",
   "metadata": {},
   "outputs": [],
   "source": [
    "from datasets import load_dataset\n",
    "\n",
    "dataset_train = load_dataset(\"Falah/Alzheimer_MRI\", split='train')\n",
    "dataset_test = load_dataset(\"Falah/Alzheimer_MRI\", split='test')"
   ]
  },
  {
   "cell_type": "code",
   "execution_count": null,
   "id": "4856875e-6727-4604-9537-48588174fa0b",
   "metadata": {},
   "outputs": [],
   "source": [
    "from transformers import AutoImageProcessor\n",
    "\n",
    "checkpoint = \"apple/mobilevit-small\"\n",
    "image_processor = AutoImageProcessor.from_pretrained(checkpoint)"
   ]
  },
  {
   "cell_type": "code",
   "execution_count": null,
   "id": "3a1fd091-ac08-4418-8e59-ac64780a6bbe",
   "metadata": {},
   "outputs": [],
   "source": [
    "def transform(example_batch):\n",
    "    inputs = image_processor([x.convert('RGB') for x in example_batch['image']], return_tensors='pt')\n",
    "    inputs['labels'] = example_batch['label']\n",
    "    return inputs\n",
    "\n",
    "transformed_dataset_train = dataset_train.with_transform(transform)\n",
    "transformed_dataset_test = dataset_test.with_transform(transform)"
   ]
  },
  {
   "cell_type": "code",
   "execution_count": null,
   "id": "c3d10f57-ee3c-42ea-8a8f-c0cf295afdbb",
   "metadata": {},
   "outputs": [],
   "source": [
    "import evaluate\n",
    "import numpy as np\n",
    "\n",
    "accuracy = evaluate.load(\"accuracy\")\n",
    "\n",
    "def compute_metrics(eval_pred):\n",
    "    predictions, labels = eval_pred\n",
    "    predictions = np.argmax(predictions, axis=1)\n",
    "    return accuracy.compute(predictions=predictions, references=labels)"
   ]
  },
  {
   "cell_type": "code",
   "execution_count": null,
   "id": "c608d4d1-b062-4d2b-9b30-eb99af1627ce",
   "metadata": {},
   "outputs": [],
   "source": [
    "from transformers import AutoModelForImageClassification, TrainingArguments, Trainer\n",
    "\n",
    "model = AutoModelForImageClassification.from_pretrained(checkpoint,\n",
    "                                                        num_labels=len(dataset_train.features[\"label\"].names),\n",
    "                                                        ignore_mismatched_sizes=True\n",
    "                                                       )\n",
    "\n",
    "training_args = TrainingArguments(\n",
    "    output_dir=\"model\",\n",
    "    remove_unused_columns=False,\n",
    "    eval_strategy=\"epoch\",\n",
    "    save_strategy=\"epoch\",\n",
    "    learning_rate=5e-5,\n",
    "    per_device_train_batch_size=64,\n",
    "    per_device_eval_batch_size=64,\n",
    "    num_train_epochs=5,\n",
    "    logging_steps=10,\n",
    "    load_best_model_at_end=True,\n",
    "    metric_for_best_model=\"accuracy\",\n",
    ")\n",
    "\n",
    "trainer = Trainer(\n",
    "    model=model,\n",
    "    args=training_args,\n",
    "    train_dataset=transformed_dataset_train,\n",
    "    eval_dataset=transformed_dataset_test,\n",
    "    tokenizer=image_processor,\n",
    "    compute_metrics=compute_metrics,\n",
    ")\n"
   ]
  },
  {
   "cell_type": "code",
   "execution_count": null,
   "id": "60fb3c2e-1eca-4f7d-b582-bd4c04fad179",
   "metadata": {
    "scrolled": true
   },
   "outputs": [],
   "source": [
    "trainer.train()"
   ]
  },
  {
   "cell_type": "code",
   "execution_count": null,
   "id": "48e6316d-c091-4067-8e91-558226689c58",
   "metadata": {},
   "outputs": [],
   "source": [
    "metrics = trainer.evaluate(transformed_dataset_test)\n",
    "outputs = trainer.predict(transformed_dataset_test)\n",
    "print(metrics)"
   ]
  },
  {
   "cell_type": "code",
   "execution_count": null,
   "id": "ad7b9f7e-c5a3-4cb1-b48b-588a090ddbbd",
   "metadata": {},
   "outputs": [],
   "source": [
    "dataset_test[0]['image']"
   ]
  },
  {
   "cell_type": "code",
   "execution_count": null,
   "id": "e93bd6a6-4c34-4db5-8a80-c98606cfe1f7",
   "metadata": {},
   "outputs": [],
   "source": [
    "outputs.predictions[0]"
   ]
  },
  {
   "cell_type": "code",
   "execution_count": null,
   "id": "fdf7c698-d998-4c27-8b3e-e197ad7073a3",
   "metadata": {},
   "outputs": [],
   "source": [
    "outputs.predictions[0].argmax(-1)"
   ]
  },
  {
   "cell_type": "code",
   "execution_count": null,
   "id": "bb35502a-e9a9-4389-b1ee-5649248d65de",
   "metadata": {},
   "outputs": [],
   "source": []
  }
 ],
 "metadata": {
  "kernelspec": {
   "display_name": "huggingface",
   "language": "python",
   "name": "huggingface"
  },
  "language_info": {
   "codemirror_mode": {
    "name": "ipython",
    "version": 3
   },
   "file_extension": ".py",
   "mimetype": "text/x-python",
   "name": "python",
   "nbconvert_exporter": "python",
   "pygments_lexer": "ipython3",
   "version": "3.10.0"
  }
 },
 "nbformat": 4,
 "nbformat_minor": 5
}
